{
 "cells": [
  {
   "cell_type": "markdown",
   "metadata": {},
   "source": [
    "# mAP\n",
    "\n",
    "Compute mAP and all related values to it based upon [this](https://medium.com/@jonathan_hui/map-mean-average-precision-for-object-detection-45c121a31173) blog. Related values are:\n",
    "\n",
    "- precision\n",
    "- recall\n",
    "- average precision"
   ]
  },
  {
   "cell_type": "code",
   "execution_count": 62,
   "metadata": {},
   "outputs": [],
   "source": [
    "import numpy as np\n",
    "import tensorflow as tf"
   ]
  },
  {
   "cell_type": "code",
   "execution_count": null,
   "metadata": {},
   "outputs": [],
   "source": [
    "tf.global_variables_initializer"
   ]
  },
  {
   "cell_type": "code",
   "execution_count": 2,
   "metadata": {},
   "outputs": [
    {
     "data": {
      "text/plain": [
       "array([[ 1,  1],\n",
       "       [ 2,  1],\n",
       "       [ 3,  0],\n",
       "       [ 4,  0],\n",
       "       [ 5,  0],\n",
       "       [ 6,  1],\n",
       "       [ 7,  1],\n",
       "       [ 8,  0],\n",
       "       [ 9,  0],\n",
       "       [10,  1]])"
      ]
     },
     "execution_count": 2,
     "metadata": {},
     "output_type": "execute_result"
    }
   ],
   "source": [
    "X = np.array([\n",
    "    [1, True],\n",
    "    [2, True],\n",
    "    [3, False],\n",
    "    [4, False],\n",
    "    [5, False],\n",
    "    [6, True],\n",
    "    [7, True],\n",
    "    [8, False],\n",
    "    [9, False],\n",
    "    [10, True]\n",
    "])\n",
    "X"
   ]
  },
  {
   "cell_type": "code",
   "execution_count": 71,
   "metadata": {},
   "outputs": [
    {
     "data": {
      "text/plain": [
       "array([1.        , 1.        , 0.66666667, 0.5       , 0.4       ,\n",
       "       0.5       , 0.57142857, 0.5       , 0.44444444, 0.5       ])"
      ]
     },
     "execution_count": 71,
     "metadata": {},
     "output_type": "execute_result"
    }
   ],
   "source": [
    "# compute precision array\n",
    "arr = []\n",
    "count = 0\n",
    "for idx, x in enumerate(X):\n",
    "    if x[1] == 1:\n",
    "        count += 1.\n",
    "    arr.append(count / (idx+1))\n",
    "precision_arr = np.array(arr)\n",
    "precision_arr"
   ]
  },
  {
   "cell_type": "code",
   "execution_count": 73,
   "metadata": {},
   "outputs": [
    {
     "name": "stdout",
     "output_type": "stream",
     "text": [
      "[1.0,\n",
      " 1.0,\n",
      " 0.6666666666666666,\n",
      " 0.5,\n",
      " 0.4,\n",
      " 0.5,\n",
      " 0.5714285714285714,\n",
      " 0.5,\n",
      " 0.4444444444444444,\n",
      " 0.5]\n"
     ]
    }
   ],
   "source": [
    "import pprint\n",
    "\n",
    "pprint.pprint(list(precision_arr))"
   ]
  },
  {
   "cell_type": "code",
   "execution_count": 4,
   "metadata": {},
   "outputs": [
    {
     "data": {
      "text/plain": [
       "array([0.2, 0.4, 0.4, 0.4, 0.4, 0.6, 0.8, 0.8, 0.8, 1. ])"
      ]
     },
     "execution_count": 4,
     "metadata": {},
     "output_type": "execute_result"
    }
   ],
   "source": [
    "# compute recall array\n",
    "pos_labels = 5\n",
    "arr = []\n",
    "count = 0\n",
    "for x in X:\n",
    "    if x[1] == 1:\n",
    "        count += 1.\n",
    "    arr.append(count / pos_labels)\n",
    "recall_arr = np.array(arr)\n",
    "recall_arr"
   ]
  },
  {
   "cell_type": "code",
   "execution_count": 5,
   "metadata": {},
   "outputs": [
    {
     "data": {
      "text/plain": [
       "array([[ 1.        ,  2.        ,  3.        ,  4.        ,  5.        ,\n",
       "         6.        ,  7.        ,  8.        ,  9.        , 10.        ],\n",
       "       [ 1.        ,  1.        ,  0.        ,  0.        ,  0.        ,\n",
       "         1.        ,  1.        ,  0.        ,  0.        ,  1.        ],\n",
       "       [ 1.        ,  1.        ,  0.66666667,  0.5       ,  0.4       ,\n",
       "         0.5       ,  0.57142857,  0.5       ,  0.44444444,  0.5       ],\n",
       "       [ 0.2       ,  0.4       ,  0.4       ,  0.4       ,  0.4       ,\n",
       "         0.6       ,  0.8       ,  0.8       ,  0.8       ,  1.        ]])"
      ]
     },
     "execution_count": 5,
     "metadata": {},
     "output_type": "execute_result"
    }
   ],
   "source": [
    "# combine all data\n",
    "x2 = np.array([X[:,0], X[:,1], precision_arr, recall_arr])\n",
    "x2"
   ]
  },
  {
   "cell_type": "code",
   "execution_count": 6,
   "metadata": {},
   "outputs": [
    {
     "data": {
      "text/plain": [
       "array([1.        , 1.        , 1.        , 1.        , 1.        ,\n",
       "       0.57142857, 0.57142857, 0.57142857, 0.57142857, 0.5       ,\n",
       "       0.5       ])"
      ]
     },
     "execution_count": 6,
     "metadata": {},
     "output_type": "execute_result"
    }
   ],
   "source": [
    "# average precision\n",
    "prev_max = None\n",
    "arr = []\n",
    "bins = np.arange(0.0, 1.1, .1)\n",
    "for idx, i in enumerate(reversed(bins)):\n",
    "    try:\n",
    "        prev_max = np.where(x2[3, :]==i)[0][0]\n",
    "    except IndexError:\n",
    "        pass\n",
    "    arr.append(precision_arr[prev_max])\n",
    "avg_prec_arr = np.array([x for x in reversed(arr)])\n",
    "avg_prec_arr"
   ]
  },
  {
   "cell_type": "code",
   "execution_count": 63,
   "metadata": {},
   "outputs": [
    {
     "data": {
      "text/plain": [
       "0.7532467532467532"
      ]
     },
     "execution_count": 63,
     "metadata": {},
     "output_type": "execute_result"
    }
   ],
   "source": [
    "# mAP\n",
    "np_ap = np.sum(avg_prec_arr) / len(avg_prec_arr)\n",
    "np_ap"
   ]
  },
  {
   "cell_type": "code",
   "execution_count": 11,
   "metadata": {},
   "outputs": [],
   "source": [
    "sess = tf.InteractiveSession()"
   ]
  },
  {
   "cell_type": "code",
   "execution_count": 68,
   "metadata": {},
   "outputs": [
    {
     "data": {
      "text/plain": [
       "0.7532467532467533"
      ]
     },
     "execution_count": 68,
     "metadata": {},
     "output_type": "execute_result"
    }
   ],
   "source": [
    "recall = tf.constant(recall_arr)\n",
    "precision = tf.constant(precision_arr)\n",
    "\n",
    "l_aps = []\n",
    "for t in np.arange(0., 1.1, 0.1):\n",
    "    mask = tf.greater_equal(recall, t)\n",
    "    v = tf.reduce_max(tf.boolean_mask(precision, mask))\n",
    "    l_aps.append(v / 11.)\n",
    "ap = tf.add_n(l_aps)\n",
    "\n",
    "tf_ap = sess.run(ap)\n",
    "tf_ap"
   ]
  },
  {
   "cell_type": "code",
   "execution_count": 74,
   "metadata": {},
   "outputs": [
    {
     "data": {
      "text/plain": [
       "True"
      ]
     },
     "execution_count": 74,
     "metadata": {},
     "output_type": "execute_result"
    }
   ],
   "source": [
    "np.allclose([np_ap], [tf_ap])"
   ]
  },
  {
   "cell_type": "code",
   "execution_count": 75,
   "metadata": {},
   "outputs": [
    {
     "data": {
      "text/plain": [
       "array([1.])"
      ]
     },
     "execution_count": 75,
     "metadata": {},
     "output_type": "execute_result"
    }
   ],
   "source": [
    "c = tf.constant([1], dtype=tf.float64)\n",
    "sess.run(c)"
   ]
  },
  {
   "cell_type": "code",
   "execution_count": 70,
   "metadata": {},
   "outputs": [
    {
     "data": {
      "text/plain": [
       "0.7532467532467533"
      ]
     },
     "execution_count": 70,
     "metadata": {},
     "output_type": "execute_result"
    }
   ],
   "source": [
    "def average_precision_voc07(precision, recall, name=None):\n",
    "    \"\"\"Compute (interpolated) average precision from precision and recall Tensors.\n",
    "\n",
    "    The implementation follows Pascal 2007 guidelines.\n",
    "    See also: https://sanchom.wordpress.com/tag/average-precision/\n",
    "    \"\"\"\n",
    "    with tf.name_scope(name, 'average_precision_voc07', [precision, recall]):\n",
    "        # Convert to float64 to decrease error on cumulated sums.\n",
    "        precision = tf.cast(precision, dtype=tf.float64)\n",
    "        recall = tf.cast(recall, dtype=tf.float64)\n",
    "        # Add zero-limit value to avoid any boundary problem...\n",
    "        precision = tf.concat([precision, [0.]], axis=0)\n",
    "        recall = tf.concat([recall, [np.inf]], axis=0)\n",
    "\n",
    "        # Split the integral into 10 bins.\n",
    "        l_aps = []\n",
    "        for t in np.arange(0., 1.1, 0.1):\n",
    "            mask = tf.greater_equal(recall, t)\n",
    "            v = tf.reduce_max(tf.boolean_mask(precision, mask))\n",
    "            l_aps.append(v / 11.)\n",
    "        ap = tf.add_n(l_aps)\n",
    "        return ap\n",
    "    \n",
    "recall = tf.constant(recall_arr)\n",
    "precision = tf.constant(precision_arr)\n",
    "\n",
    "sess.run(average_precision_voc07(precision, recall))"
   ]
  },
  {
   "cell_type": "code",
   "execution_count": null,
   "metadata": {},
   "outputs": [],
   "source": [
    "t = tf.constant(t, dtype=tf.float64)\n",
    "mask = tf.greater_equal(recall, t)\n",
    "sess.run(mask)"
   ]
  },
  {
   "cell_type": "code",
   "execution_count": 61,
   "metadata": {},
   "outputs": [
    {
     "data": {
      "text/plain": [
       "1.0"
      ]
     },
     "execution_count": 61,
     "metadata": {},
     "output_type": "execute_result"
    }
   ],
   "source": [
    "# together\n",
    "t = np.mgrid[0.0:1.1:.1, 0.0:1.:.1][0]\n",
    "t = tf.constant(t, dtype=tf.float64)\n",
    "mask = tf.greater_equal(recall, t)\n",
    "precision = tf.reshape(tf.tile(precision, tf.constant([11])), shape=(10, 11))\n",
    "v = tf.reduce_max(tf.boolean_mask(precision, tf.transpose(mask)))\n",
    "sess.run(v)"
   ]
  },
  {
   "cell_type": "code",
   "execution_count": 60,
   "metadata": {},
   "outputs": [
    {
     "data": {
      "text/plain": [
       "<tf.Tensor 'Reshape_1:0' shape=(10, 11) dtype=float64>"
      ]
     },
     "execution_count": 60,
     "metadata": {},
     "output_type": "execute_result"
    }
   ],
   "source": [
    "tf.reshape(tf.tile(precision, tf.constant([11])), shape=(10, 11))"
   ]
  },
  {
   "cell_type": "code",
   "execution_count": 55,
   "metadata": {},
   "outputs": [
    {
     "data": {
      "text/plain": [
       "(1,)"
      ]
     },
     "execution_count": 55,
     "metadata": {},
     "output_type": "execute_result"
    }
   ],
   "source": [
    "sess.run(tf.constant([1])).shape"
   ]
  },
  {
   "cell_type": "code",
   "execution_count": 27,
   "metadata": {},
   "outputs": [
    {
     "data": {
      "text/plain": [
       "array([0. , 0.1, 0.2, 0.3, 0.4, 0.5, 0.6, 0.7, 0.8, 0.9, 1. ])"
      ]
     },
     "execution_count": 27,
     "metadata": {},
     "output_type": "execute_result"
    }
   ],
   "source": [
    "np.arange(0., 1.1, 0.1)"
   ]
  },
  {
   "cell_type": "code",
   "execution_count": 28,
   "metadata": {},
   "outputs": [
    {
     "data": {
      "text/plain": [
       "11"
      ]
     },
     "execution_count": 28,
     "metadata": {},
     "output_type": "execute_result"
    }
   ],
   "source": [
    "len(np.arange(0., 1.1, 0.1))"
   ]
  },
  {
   "cell_type": "code",
   "execution_count": 23,
   "metadata": {},
   "outputs": [
    {
     "name": "stdout",
     "output_type": "stream",
     "text": [
      "10\n"
     ]
    },
    {
     "data": {
      "text/plain": [
       "array([False,  True,  True,  True,  True,  True,  True,  True,  True,\n",
       "        True])"
      ]
     },
     "execution_count": 23,
     "metadata": {},
     "output_type": "execute_result"
    }
   ],
   "source": [
    "recall = tf.constant(recall_arr)\n",
    "t = .4\n",
    "mask = tf.greater_equal(recall, t)\n",
    "print(len(sess.run(mask)))\n",
    "sess.run(mask)"
   ]
  },
  {
   "cell_type": "code",
   "execution_count": 17,
   "metadata": {},
   "outputs": [
    {
     "data": {
      "text/plain": [
       "array([1.        , 0.66666667, 0.5       , 0.4       , 0.5       ,\n",
       "       0.57142857, 0.5       , 0.44444444, 0.5       ])"
      ]
     },
     "execution_count": 17,
     "metadata": {},
     "output_type": "execute_result"
    }
   ],
   "source": [
    "bool_mask = tf.boolean_mask(precision, mask)\n",
    "sess.run(bool_mask)"
   ]
  },
  {
   "cell_type": "code",
   "execution_count": 18,
   "metadata": {},
   "outputs": [
    {
     "data": {
      "text/plain": [
       "1.0"
      ]
     },
     "execution_count": 18,
     "metadata": {},
     "output_type": "execute_result"
    }
   ],
   "source": [
    "rmax = tf.reduce_max(bool_mask)\n",
    "sess.run(rmax)"
   ]
  },
  {
   "cell_type": "code",
   "execution_count": 19,
   "metadata": {},
   "outputs": [
    {
     "data": {
      "text/plain": [
       "array([0.2, 0.4, 0.4, 0.4, 0.4, 0.6, 0.8, 0.8, 0.8, 1. ])"
      ]
     },
     "execution_count": 19,
     "metadata": {},
     "output_type": "execute_result"
    }
   ],
   "source": [
    "sess.run(recall)"
   ]
  },
  {
   "cell_type": "code",
   "execution_count": 20,
   "metadata": {},
   "outputs": [
    {
     "data": {
      "text/plain": [
       "array([1.        , 1.        , 0.66666667, 0.5       , 0.4       ,\n",
       "       0.5       , 0.57142857, 0.5       , 0.44444444, 0.5       ])"
      ]
     },
     "execution_count": 20,
     "metadata": {},
     "output_type": "execute_result"
    }
   ],
   "source": [
    "sess.run(precision)"
   ]
  },
  {
   "cell_type": "code",
   "execution_count": null,
   "metadata": {},
   "outputs": [],
   "source": []
  }
 ],
 "metadata": {
  "kernelspec": {
   "display_name": "Python 3",
   "language": "python",
   "name": "python3"
  },
  "language_info": {
   "codemirror_mode": {
    "name": "ipython",
    "version": 3
   },
   "file_extension": ".py",
   "mimetype": "text/x-python",
   "name": "python",
   "nbconvert_exporter": "python",
   "pygments_lexer": "ipython3",
   "version": "3.6.2"
  }
 },
 "nbformat": 4,
 "nbformat_minor": 2
}
