{
 "cells": [
  {
   "cell_type": "markdown",
   "metadata": {},
   "source": [
    "# mAP\n",
    "\n",
    "Compute mAP and all related values to it based upon [this](https://medium.com/@jonathan_hui/map-mean-average-precision-for-object-detection-45c121a31173) blog. Related values are:\n",
    "\n",
    "- precision\n",
    "- recall\n",
    "- average precision"
   ]
  },
  {
   "cell_type": "code",
   "execution_count": null,
   "metadata": {},
   "outputs": [],
   "source": [
    "import numpy as np"
   ]
  },
  {
   "cell_type": "code",
   "execution_count": 86,
   "metadata": {},
   "outputs": [
    {
     "data": {
      "text/plain": [
       "array([[ 1,  1],\n",
       "       [ 2,  1],\n",
       "       [ 3,  0],\n",
       "       [ 4,  0],\n",
       "       [ 5,  0],\n",
       "       [ 6,  1],\n",
       "       [ 7,  1],\n",
       "       [ 8,  0],\n",
       "       [ 9,  0],\n",
       "       [10,  1]])"
      ]
     },
     "execution_count": 86,
     "metadata": {},
     "output_type": "execute_result"
    }
   ],
   "source": [
    "X = np.array([\n",
    "    [1, True],\n",
    "    [2, True],\n",
    "    [3, False],\n",
    "    [4, False],\n",
    "    [5, False],\n",
    "    [6, True],\n",
    "    [7, True],\n",
    "    [8, False],\n",
    "    [9, False],\n",
    "    [10, True]\n",
    "])\n",
    "X"
   ]
  },
  {
   "cell_type": "code",
   "execution_count": 87,
   "metadata": {},
   "outputs": [
    {
     "data": {
      "text/plain": [
       "array([1.        , 1.        , 0.66666667, 0.5       , 0.4       ,\n",
       "       0.5       , 0.57142857, 0.5       , 0.44444444, 0.5       ])"
      ]
     },
     "execution_count": 87,
     "metadata": {},
     "output_type": "execute_result"
    }
   ],
   "source": [
    "# compute precision array\n",
    "arr = []\n",
    "count = 0\n",
    "for idx, x in enumerate(X):\n",
    "    if x[1] == 1:\n",
    "        count += 1.\n",
    "    arr.append(count / (idx+1))\n",
    "precision_arr = np.array(arr)\n",
    "precision_arr"
   ]
  },
  {
   "cell_type": "code",
   "execution_count": 88,
   "metadata": {},
   "outputs": [
    {
     "data": {
      "text/plain": [
       "array([0.2, 0.4, 0.4, 0.4, 0.4, 0.6, 0.8, 0.8, 0.8, 1. ])"
      ]
     },
     "execution_count": 88,
     "metadata": {},
     "output_type": "execute_result"
    }
   ],
   "source": [
    "# compute recall array\n",
    "pos_labels = 5\n",
    "arr = []\n",
    "count = 0\n",
    "for x in X:\n",
    "    if x[1] == 1:\n",
    "        count += 1.\n",
    "    arr.append(count / pos_labels)\n",
    "recall_arr = np.array(arr)\n",
    "recall_arr"
   ]
  },
  {
   "cell_type": "code",
   "execution_count": 89,
   "metadata": {},
   "outputs": [
    {
     "data": {
      "text/plain": [
       "array([[ 1.        ,  2.        ,  3.        ,  4.        ,  5.        ,\n",
       "         6.        ,  7.        ,  8.        ,  9.        , 10.        ],\n",
       "       [ 1.        ,  1.        ,  0.        ,  0.        ,  0.        ,\n",
       "         1.        ,  1.        ,  0.        ,  0.        ,  1.        ],\n",
       "       [ 1.        ,  1.        ,  0.66666667,  0.5       ,  0.4       ,\n",
       "         0.5       ,  0.57142857,  0.5       ,  0.44444444,  0.5       ],\n",
       "       [ 0.2       ,  0.4       ,  0.4       ,  0.4       ,  0.4       ,\n",
       "         0.6       ,  0.8       ,  0.8       ,  0.8       ,  1.        ]])"
      ]
     },
     "execution_count": 89,
     "metadata": {},
     "output_type": "execute_result"
    }
   ],
   "source": [
    "# combine all data\n",
    "x2 = np.array([X[:,0], X[:,1], precision_arr, recall_arr])\n",
    "x2"
   ]
  },
  {
   "cell_type": "code",
   "execution_count": 90,
   "metadata": {},
   "outputs": [
    {
     "data": {
      "text/plain": [
       "array([1.        , 1.        , 1.        , 1.        , 1.        ,\n",
       "       0.57142857, 0.57142857, 0.57142857, 0.57142857, 0.5       ,\n",
       "       0.5       ])"
      ]
     },
     "execution_count": 90,
     "metadata": {},
     "output_type": "execute_result"
    }
   ],
   "source": [
    "# average precision\n",
    "prev_max = None\n",
    "arr = []\n",
    "bins = np.arange(0.0, 1.1, .1)\n",
    "for idx, i in enumerate(reversed(bins)):\n",
    "    try:\n",
    "        prev_max = np.where(x2[3, :]==i)[0][0]\n",
    "    except IndexError:\n",
    "        pass\n",
    "    arr.append(precision_arr[prev_max])\n",
    "avg_prec_arr = np.array([x for x in reversed(arr)])\n",
    "avg_prec_arr"
   ]
  },
  {
   "cell_type": "code",
   "execution_count": 91,
   "metadata": {},
   "outputs": [
    {
     "data": {
      "text/plain": [
       "0.7532467532467532"
      ]
     },
     "execution_count": 91,
     "metadata": {},
     "output_type": "execute_result"
    }
   ],
   "source": [
    "# mAP\n",
    "np.sum(avg_prec_arr) / len(avg_prec_arr)"
   ]
  },
  {
   "cell_type": "code",
   "execution_count": null,
   "metadata": {},
   "outputs": [],
   "source": []
  }
 ],
 "metadata": {
  "kernelspec": {
   "display_name": "Python 3",
   "language": "python",
   "name": "python3"
  },
  "language_info": {
   "codemirror_mode": {
    "name": "ipython",
    "version": 3
   },
   "file_extension": ".py",
   "mimetype": "text/x-python",
   "name": "python",
   "nbconvert_exporter": "python",
   "pygments_lexer": "ipython3",
   "version": "3.6.2"
  }
 },
 "nbformat": 4,
 "nbformat_minor": 2
}
